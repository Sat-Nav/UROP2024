{
 "cells": [
  {
   "cell_type": "code",
   "execution_count": 6,
   "metadata": {},
   "outputs": [],
   "source": [
    "#imports\n",
    "# %matplotlib widget\n",
    "# %matplotlib inline\n",
    "import pandas as pd\n",
    "import numpy as np\n",
    "import matplotlib.pyplot as plt\n",
    "import re\n",
    "from IPython.display import display_markdown\n",
    "import datetime\n",
    "from datetime import datetime as dt\n",
    "from numpy import nan\n",
    "import os\n",
    "\n",
    "from import_OMNI import read_OMNI, nan_value\n",
    "from import_ACE import read_ACE\n",
    "from import_cdaweb import make_cda_df\n",
    "from entropy import H, MI, CMI, entropy_matrix\n",
    "from storm_selection import findSeq\n",
    "from import_RTSW import read_RTSW_ACE\n"
   ]
  },
  {
   "cell_type": "code",
   "execution_count": null,
   "metadata": {},
   "outputs": [],
   "source": [
    "# storm = read_OMNI(\n",
    "#     filepath=\"../OMNI/datasets/test_2.txt\",\n",
    "#     formatpath=\"../OMNI/data_format/test_2_format.txt\",\n",
    "# )\n",
    "# # for column in list(df)[1:]:\n",
    "#     # plt.plot(df[\"Datetime\"], df[column], label=column)\n",
    "# plt.plot(df[\"Datetime\"], df[\"BZ\"], label=\"BZ\")\n",
    "# # plt.plot(df[\"Datetime\"], df[\"SYM/H\"], label=\"SYM/H\")\n",
    "# # plt.hist(storm[\"SYM/H\"], 150)\n",
    "# plt.legend()\n",
    "# plt.show()"
   ]
  },
  {
   "cell_type": "code",
   "execution_count": null,
   "metadata": {},
   "outputs": [],
   "source": [
    "def markdown_entropy_matrix(df, bins=200, ignore_columns=[0], use_scipy=False, knn=False):\n",
    "    em = entropy_matrix(df, bins=bins, ignore_columns=ignore_columns, use_scipy=use_scipy, knn=knn)\n",
    "\n",
    "    display_markdown(\n",
    "f'''| |{\"|\".join(df.columns[1:])}|\n",
    "{\"\".join([\"|:-\"] * len(df.columns))}|\n",
    "{\"/n\".join([f\"|{column_name}|{\"|\".join(map(lambda x: \"%.2f\" % x, em[i]))}|\" for i, column_name in enumerate(df.columns[1:])])}\n",
    "|Number of datapoints|{\"|\".join([str(len(df[column])) for column in df.columns[1:]])}|\n",
    "''',\n",
    "    raw = True\n",
    "    )"
   ]
  },
  {
   "cell_type": "code",
   "execution_count": null,
   "metadata": {},
   "outputs": [],
   "source": [
    "# markdown_entropy_matrix(df)"
   ]
  },
  {
   "cell_type": "code",
   "execution_count": null,
   "metadata": {},
   "outputs": [],
   "source": [
    "df = read_OMNI(\n",
    "    filepath=\"../OMNI/datasets/2019_March_data.txt\",\n",
    "    formatpath=\"../OMNI/data_format/2019_March_data_format.txt\",\n",
    ")\n",
    "plt.plot(df[\"Datetime\"], df[\"SYM/H\"], label=\"SYM/H\")\n",
    "plt.show()"
   ]
  },
  {
   "cell_type": "code",
   "execution_count": null,
   "metadata": {},
   "outputs": [],
   "source": [
    "lower_thresh, upper_thresh = 20, 50\n",
    "inds, ranges=findSeq(-df[\"SYM/H\"],lower_thresh,upper_thresh,6*60, return_ranges=True)\n",
    "# plt.plot(df[\"Datetime\"], df[\"SYM/H, nT\"])"
   ]
  },
  {
   "cell_type": "code",
   "execution_count": null,
   "metadata": {},
   "outputs": [],
   "source": [
    "plt.figure()\n",
    "plt.plot(df[\"Datetime\"], df[\"SYM/H\"], label=\"SYM/H\")\n",
    "plt.scatter(df[\"Datetime\"].iloc[inds],df[\"SYM/H\"].iloc[inds],color='r',label='Storms')\n",
    "plt.axhline(-lower_thresh,color='k',linestyle=':')\n",
    "plt.axhline(-upper_thresh,color='k',linestyle=':')\n",
    "plt.title('Geomagnetic Storm Selector')\n",
    "plt.xlabel('Time [UTC]')\n",
    "plt.ylabel('SYM-H [nT]')\n",
    "plt.xlim(datetime.datetime(2019, 5, 10), datetime.datetime(2019, 5, 16))\n",
    "plt.legend()\n",
    "plt.show()"
   ]
  },
  {
   "cell_type": "code",
   "execution_count": null,
   "metadata": {},
   "outputs": [],
   "source": [
    "storm_entropies = [H(df[\"SYM/H\"].iloc[range(storm[0], storm[1])]) for storm in ranges]\n",
    "\n",
    "print(f\"Nominal SYM/H entropy: {H(df[\"SYM/H\"])}\")\n",
    "print(f\"Storm SYM/H entropies: {storm_entropies} /nAverage storm entropy (per storm): {sum(storm_entropies)/len(storm_entropies)}\")\n",
    "print(f\"Storm entropies calculated taking storms as a set of datapoints: {H(df[\"SYM/H\"].iloc[inds])}\")\n",
    "# we can initially discern a large increase in information describing SYM/H\n",
    "print(\"Entropy Matrix for storms:\")\n",
    "markdown_entropy_matrix(df.iloc[inds])\n",
    "print(\"Entropy Matrix for all data:\")\n",
    "markdown_entropy_matrix(df)"
   ]
  },
  {
   "cell_type": "code",
   "execution_count": null,
   "metadata": {},
   "outputs": [],
   "source": [
    "# evaluating average entropies of all stats in a storm\n",
    "stormy_H = np.array([H(df[column].iloc[inds]) for column in list(df)[1:]])\n",
    "\n",
    "nominal_H =  np.array([H(df[column]) for column in list(df)[1:]])\n",
    "\n",
    "stormy_H - nominal_H"
   ]
  },
  {
   "cell_type": "code",
   "execution_count": null,
   "metadata": {},
   "outputs": [],
   "source": [
    "def find_bin_num(func, default = 100):\n",
    "    bin_num = default\n",
    "    while not np.isclose(func(bin_num), func(bin_num-50)):\n",
    "        bin_num += 100\n",
    "    return bin_num\n"
   ]
  },
  {
   "cell_type": "code",
   "execution_count": null,
   "metadata": {},
   "outputs": [],
   "source": [
    "def gradient_desc(f, initial = 100, step_size = 100, weight = 1):\n",
    "    x = initial\n",
    "    grad = f(x+step_size) - f(x)\n",
    "    while not np.isclose(grad,0):\n",
    "        print(x, grad)\n",
    "        x += int(grad*step_size*weight)\n",
    "        grad = f(x+step_size) - f(x)\n",
    "        \n",
    "    return x+step_size"
   ]
  },
  {
   "cell_type": "code",
   "execution_count": null,
   "metadata": {},
   "outputs": [],
   "source": [
    "# [find_bin_num(lambda x: H(df[column], bins=x)) for column in list(df)[1:]]"
   ]
  },
  {
   "cell_type": "code",
   "execution_count": null,
   "metadata": {},
   "outputs": [],
   "source": [
    "df2 = read_ACE(\"../ACE/ACE_Browse_Data.txt\")\n",
    "df2.columns.difference([\"ACE_epoch_time\"], sort=False), MI(df2[df2.columns.difference([\"ACE_epoch_time\"], sort=False)], df2[\"B_rtn_t_MAG\"], knn=True)"
   ]
  },
  {
   "cell_type": "code",
   "execution_count": null,
   "metadata": {},
   "outputs": [],
   "source": [
    "markdown_entropy_matrix(df2, knn=True)"
   ]
  },
  {
   "cell_type": "code",
   "execution_count": null,
   "metadata": {},
   "outputs": [],
   "source": [
    "MI(df2[\"B_rtn_r_MAG\"], df2[\"B_rtn_r_MAG\"], knn=True)"
   ]
  },
  {
   "cell_type": "code",
   "execution_count": null,
   "metadata": {},
   "outputs": [],
   "source": [
    "def find_driving_sw(indicies_data, L1_data, max_time_diff=60, min_time_diff=5):\n",
    "    \"\"\"\n",
    "    Perform storm analysis on the given data.\n",
    "\n",
    "    Parameters:\n",
    "    - indicies_data (DataFrame): DataFrame containing ground index data.\n",
    "    - L1_data (DataFrame): DataFrame containing L1 data.\n",
    "    - max_time_diff (int, optional): Maximum time difference in minutes. Defaults to 60.\n",
    "    - min_time_diff (int, optional): Minimum time difference in minutes. Defaults to 5.\n",
    "\n",
    "    Returns:\n",
    "    - MI_matrices (ndarray): Array of mutual information matrices.\n",
    "    - times (ndarray): Array of times of the ends of corresponding convolutions.\n",
    "\n",
    "    Raises:\n",
    "    - ValueError: If no valid convolutions are found.\n",
    "    \"\"\"\n",
    "\n",
    "    window_width = len(indicies_data)\n",
    "    time_to_end = (indicies_data[\"Datetime\"].max() - L1_data[\"Datetime\"]).dt.total_seconds() // 60\n",
    "    first_index = time_to_end.index[np.searchsorted(time_to_end.index, (time_to_end <= max_time_diff).idxmax()) - window_width]\n",
    "    L1_data = L1_data[time_to_end >= min_time_diff].loc[first_index:]\n",
    "    rolling_data = L1_data.rolling(window=window_width)\n",
    "    to_test = []\n",
    "\n",
    "    for convolution in rolling_data:\n",
    "        if convolution.shape[0] != window_width:\n",
    "            to_test.append(False)\n",
    "        elif (indicies_data[\"Datetime\"].max() - convolution[\"Datetime\"].max()).total_seconds() // 60 > max_time_diff:\n",
    "            to_test.append(False)\n",
    "        else:\n",
    "            to_test.append(True)\n",
    "    if sum(to_test) == 0:\n",
    "        raise ValueError(\"No valid convolutions found\")\n",
    "\n",
    "    to_test = np.array(to_test)\n",
    "    num_to_test = to_test.sum()\n",
    "    MI_matrices = []\n",
    "    times = []\n",
    "\n",
    "    conv_data_columns = convolution.columns.difference([\"Datetime\"], sort=False)\n",
    "    indicies_data_columns = indicies_data.columns.difference([\"Datetime\"], sort=False)\n",
    "    for i, convolution in enumerate(rolling_data):\n",
    "        if to_test[i]:\n",
    "            print(f\"/r{100 * (len(MI_matrices)) / (num_to_test):.2f}% complete, analysing window starting on {convolution['Datetime'].min()}\", end=\"/r\")\n",
    "            MI_matrix = np.array([MI(convolution[conv_data_columns], indicies_data[col_j], knn=True, n_cores=-2) for col_j in indicies_data_columns])\n",
    "            MI_matrices.append(MI_matrix)\n",
    "            times.append(convolution[\"Datetime\"].max())\n",
    "    MI_matrices = np.array(MI_matrices)\n",
    "    times = np.array(times)\n",
    "    print(f\"Analysis complete {\" \"*50}\")\n",
    "    return MI_matrices, times"
   ]
  },
  {
   "cell_type": "code",
   "execution_count": null,
   "metadata": {},
   "outputs": [],
   "source": [
    "L1_data = make_cda_df(\"../CDAWeb/ac_h3s_mfi_20190101000000_20190529235959.cdf\", \"../CDAWeb/ac_h0s_swe_20190101000053_20190529235924.cdf\")\n",
    "df = read_OMNI(\n",
    "    filepath=\"../OMNI/datasets/2019_March_data.txt\",\n",
    "    formatpath=\"../OMNI/data_format/2019_March_data_format.txt\",\n",
    ")\n",
    "lower_thresh, upper_thresh = 20, 50\n",
    "inds, ranges=findSeq(-df[\"SYM/H\"],lower_thresh,upper_thresh,6*60, return_ranges=True)\n",
    "\n",
    "storm_data = [df.iloc[range(storm[0], storm[1])] for storm in ranges]\n",
    "storm = storm_data[0]\n",
    "\n",
    "MI_matrices, times = find_driving_sw(storm, L1_data, max_time_diff=60*36)\n",
    "# MI_matrices.shape, L1_data.columns[1:], storm.columns[1:] # just checking everything is working as expected\n",
    "plt.figure(figsize=[10, 4.8])\n",
    "plt.plot(times, MI_matrices[:, -3, 2]) # first number indexes the OMNI column, second indexes the ACE column\n",
    "plt.title('MI between SYM-H over March 2019 and Bn (RTN Coordinates) at ACE')\n",
    "plt.xlabel('Time [UTC]')\n",
    "plt.ylabel('MI [nats]')\n",
    "plt.show() # attempt at plotting MI between Bz and SMH/H"
   ]
  },
  {
   "cell_type": "code",
   "execution_count": null,
   "metadata": {},
   "outputs": [],
   "source": [
    "# np.save(\"MI matrices.npy\", MI_matrices)\n",
    "max_MI_pos = np.argmax(MI_matrices[:, -3, 2])\n",
    "max_MI = MI_matrices[max_MI_pos, -3, 2]\n",
    "times[max_MI_pos], max_MI"
   ]
  },
  {
   "cell_type": "code",
   "execution_count": 95,
   "metadata": {},
   "outputs": [
    {
     "ename": "NameError",
     "evalue": "name 'make_cda_df' is not defined",
     "output_type": "error",
     "traceback": [
      "\u001b[1;31m---------------------------------------------------------------------------\u001b[0m",
      "\u001b[1;31mNameError\u001b[0m                                 Traceback (most recent call last)",
      "Cell \u001b[1;32mIn[95], line 5\u001b[0m\n\u001b[0;32m      1\u001b[0m df \u001b[38;5;241m=\u001b[39m read_OMNI(\n\u001b[0;32m      2\u001b[0m     filepath\u001b[38;5;241m=\u001b[39m\u001b[38;5;124m\"\u001b[39m\u001b[38;5;124m../OMNI/datasets/2018_all.txt\u001b[39m\u001b[38;5;124m\"\u001b[39m,\n\u001b[0;32m      3\u001b[0m     formatpath\u001b[38;5;241m=\u001b[39m\u001b[38;5;124m\"\u001b[39m\u001b[38;5;124m../OMNI/data_format/2018_all_format.txt\u001b[39m\u001b[38;5;124m\"\u001b[39m,\n\u001b[0;32m      4\u001b[0m )\n\u001b[1;32m----> 5\u001b[0m level2 \u001b[38;5;241m=\u001b[39m \u001b[43mmake_cda_df\u001b[49m(\u001b[38;5;124m\"\u001b[39m\u001b[38;5;124m../CDAWeb/ac_h0s_mfi_20180101000013_20190101000000.cdf\u001b[39m\u001b[38;5;124m\"\u001b[39m, \u001b[38;5;124m\"\u001b[39m\u001b[38;5;124m../CDAWeb/ac_h0s_swe_20180101000052_20181231235949.cdf\u001b[39m\u001b[38;5;124m\"\u001b[39m)\n\u001b[0;32m      6\u001b[0m level1 \u001b[38;5;241m=\u001b[39m read_RTSW_ACE(\u001b[38;5;124m\"\u001b[39m\u001b[38;5;124m../172549/realtime_solarwind/ace\u001b[39m\u001b[38;5;124m\"\u001b[39m, \u001b[38;5;241m2018\u001b[39m)\n\u001b[0;32m      7\u001b[0m level1 \u001b[38;5;241m=\u001b[39m level1[level1\u001b[38;5;241m.\u001b[39mcolumns\u001b[38;5;241m.\u001b[39mdifference([\u001b[38;5;124m\"\u001b[39m\u001b[38;5;124mState_x\u001b[39m\u001b[38;5;124m\"\u001b[39m, \u001b[38;5;124m\"\u001b[39m\u001b[38;5;124mState_y\u001b[39m\u001b[38;5;124m\"\u001b[39m], sort\u001b[38;5;241m=\u001b[39m\u001b[38;5;28;01mFalse\u001b[39;00m)]\n",
      "\u001b[1;31mNameError\u001b[0m: name 'make_cda_df' is not defined"
     ]
    }
   ],
   "source": [
    "df = read_OMNI(\n",
    "    filepath=\"../OMNI/datasets/2018_all.txt\",\n",
    "    formatpath=\"../OMNI/data_format/2018_all_format.txt\",\n",
    ")\n",
    "level2 = make_cda_df(\"../CDAWeb/ac_h0s_mfi_20180101000013_20190101000000.cdf\", \"../CDAWeb/ac_h0s_swe_20180101000052_20181231235949.cdf\")\n",
    "level1 = read_RTSW_ACE(\"../172549/realtime_solarwind/ace\", 2018)\n",
    "level1 = level1[level1.columns.difference([\"State_x\", \"State_y\"], sort=False)]\n",
    "lower_thresh, upper_thresh = 30, 100\n",
    "inds, ranges=findSeq(-df[\"SYM/H\"],lower_thresh,upper_thresh,6*60, return_ranges=True)\n",
    "storm_data = [df.iloc[range(storm[0], storm[1])] for storm in ranges]\n",
    "plt.figure()\n",
    "plt.plot(df[\"Datetime\"], df[\"SYM/H\"], label=\"SYM/H\")\n",
    "plt.scatter(df[\"Datetime\"].iloc[inds],df[\"SYM/H\"].iloc[inds],color='r',label='Storms')\n",
    "plt.axhline(-lower_thresh,color='k',linestyle=':')\n",
    "plt.axhline(-upper_thresh,color='k',linestyle=':')\n",
    "plt.title('Geomagnetic Storm Selector')\n",
    "plt.xlabel('Time [UTC]')\n",
    "plt.ylabel('SYM-H [nT]')\n",
    "plt.legend()\n",
    "plt.show()"
   ]
  },
  {
   "cell_type": "code",
   "execution_count": null,
   "metadata": {},
   "outputs": [],
   "source": [
    "max_MI_times2 = []\n",
    "max_MIs2 = []\n",
    "all_storm_MI_matrices2 = []\n",
    "all_matrix_times2 = []\n",
    "analysed2 = []\n",
    "\n",
    "for i, storm in enumerate(storm_data):\n",
    "    print(f\"storm {i+1}/{len(storm_data)}\")\n",
    "    try:\n",
    "        MI_matrices, times = find_driving_sw(storm, level2, max_time_diff=60*3)\n",
    "        max_MI_pos = np.argmax(MI_matrices[:, -3, 2])\n",
    "        max_MI = MI_matrices[max_MI_pos, -3, 2]\n",
    "        max_MI_time_delta = times[max_MI_pos] - storm[\"Datetime\"].max()\n",
    "\n",
    "        max_MI_times2.append(max_MI_time_delta)\n",
    "        max_MIs2.append(max_MI)\n",
    "        all_storm_MI_matrices2.append(MI_matrices)\n",
    "        all_matrix_times2.append(times)\n",
    "        analysed2.append(True)\n",
    "    except ValueError:\n",
    "        analysed2.append(False)\n",
    "        \n",
    "all_storm_times2 = np.array(all_matrix_times2)\n",
    "average_max_MI_time2 = np.mean(max_MI_times2)\n",
    "average_max_MI2 = np.mean(max_MIs2)\n",
    "average_max_MI_time2, average_max_MI2"
   ]
  },
  {
   "cell_type": "code",
   "execution_count": null,
   "metadata": {},
   "outputs": [],
   "source": [
    "max_MI_times1 = []\n",
    "max_MIs1 = []\n",
    "all_storm_MI_matrices1 = []\n",
    "all_matrix_times1 = []\n",
    "analysed1 = []\n",
    "\n",
    "for i, storm in enumerate(storm_data):\n",
    "    print(f\"storm {i+1}/{len(storm_data)}\")\n",
    "    try:\n",
    "        MI_matrices, times = find_driving_sw(storm, level1.dropna(), max_time_diff=60*3)\n",
    "        max_MI_pos = np.argmax(MI_matrices[:, -3, 2])\n",
    "        max_MI = MI_matrices[max_MI_pos, -3, 2]\n",
    "        max_MI_time_delta = times[max_MI_pos] - storm[\"Datetime\"].max() # time of max MI relative to end of storm\n",
    "\n",
    "        max_MI_times1.append(max_MI_time_delta)\n",
    "        max_MIs1.append(max_MI)\n",
    "        all_storm_MI_matrices1.append(MI_matrices)\n",
    "        all_matrix_times1.append(times)\n",
    "        analysed1.append(True)\n",
    "    except ValueError:\n",
    "        analysed1.append(False)\n",
    "\n",
    "average_max_MI_time1 = np.mean(max_MI_times1)\n",
    "average_max_MI1 = np.mean(max_MIs1)\n",
    "average_max_MI_time1, average_max_MI1"
   ]
  },
  {
   "cell_type": "code",
   "execution_count": null,
   "metadata": {},
   "outputs": [],
   "source": [
    "df.columns, level1.columns, level2.columns"
   ]
  },
  {
   "cell_type": "code",
   "execution_count": null,
   "metadata": {},
   "outputs": [],
   "source": [
    "plt.figure(figsize=[20, 10])\n",
    "\n",
    "omni_col_name = \"SYM/H\"\n",
    "sw_col_name = \"Speed\"\n",
    "omni_col = df.columns.difference([\"Datetime\"], sort=False).get_loc(omni_col_name)\n",
    "sw_col = level1.columns.difference([\"Datetime\"], sort=False).get_loc(sw_col_name)\n",
    "for i, storm in enumerate(storm_data):\n",
    "    try:\n",
    "        if not analysed1[i]:\n",
    "            continue\n",
    "        offset = i - sum(analysed1[:i])\n",
    "        # print((pd.Series(all_matrix_times1[i - offset]) - storm[\"Datetime\"].max()).dt.total_seconds()/60)\n",
    "        plt.plot((pd.Series(all_matrix_times1[i - offset]) - storm[\"Datetime\"].max()).dt.total_seconds()/60, all_storm_MI_matrices1[i - offset][:, omni_col, sw_col], label = f\"{i - offset + 1}\")\n",
    "        # plt.axvline(max_MI_times1[i - offset].total_seconds()/60, color='b', label = f\"{i - offset + 1} max MI time\", linestyle='--')\n",
    "    except:\n",
    "        pass\n",
    "plt.axvline(average_max_MI_time1.total_seconds()/60, color='r')\n",
    "plt.title(f'MI between {omni_col} {sw_col}) at ACE')\n",
    "plt.xlabel('Time Difference Storms and Maximum MI Time [minutes]')\n",
    "plt.legend()\n",
    "plt.ylabel('MI [nats]')"
   ]
  },
  {
   "cell_type": "code",
   "execution_count": null,
   "metadata": {},
   "outputs": [],
   "source": [
    "plt.figure(figsize=[20, 10])\n",
    "\n",
    "omni_col_name = \"SYM/H\"\n",
    "sw_col_name = \"V_GSM\"\n",
    "omni_col = df.columns.difference([\"Datetime\"], sort=False).get_loc(omni_col_name)\n",
    "sw_col = level2.columns.difference([\"Datetime\"], sort=False).get_loc(sw_col_name)\n",
    "for i, storm in enumerate(storm_data):\n",
    "    try:\n",
    "        if not analysed2[i]:\n",
    "            continue\n",
    "        offset = i - sum(analysed2[:i])\n",
    "        # print((pd.Series(all_matrix_times1[i - offset]) - storm[\"Datetime\"].max()).dt.total_seconds()/60)\n",
    "        plt.plot((pd.Series(all_matrix_times2[i - offset]) - storm[\"Datetime\"].max()).dt.total_seconds()/60, all_storm_MI_matrices2[i - offset][:, omni_col, sw_col], label = f\"{i - offset + 1}\")\n",
    "        # plt.axvline(max_MI_times2[i - offset].total_seconds()/60, color='b', label = f\"{i - offset + 1} max MI time\", linestyle='--')\n",
    "    except:\n",
    "        pass\n",
    "plt.axvline(average_max_MI_time2.total_seconds()/60, color='r')\n",
    "plt.title(f'MI between {omni_col_name} and {sw_col_name.replace(\"_\", \" \")} at ACE')\n",
    "plt.xlabel('Time Difference Storms and Maximum MI Time [minutes]')\n",
    "plt.legend()\n",
    "plt.ylabel('MI [nats]')"
   ]
  },
  {
   "cell_type": "code",
   "execution_count": 96,
   "metadata": {},
   "outputs": [
    {
     "name": "stderr",
     "output_type": "stream",
     "text": [
      "c:\\Users\\Aarnav\\Downloads\\UROP2024\\UROP2024\\src\\import_OMNI.py:60: FutureWarning: Support for nested sequences for 'parse_dates' in pd.read_csv is deprecated. Combine the desired columns with pd.to_datetime after parsing instead.\n",
      "  df = pd.read_csv(\n"
     ]
    },
    {
     "name": "stdout",
     "output_type": "stream",
     "text": [
      "Min / max thresholds are: 30.00 , 100.00\n",
      "No sequences found. Returning [].\n"
     ]
    },
    {
     "name": "stderr",
     "output_type": "stream",
     "text": [
      "c:\\Users\\Aarnav\\Downloads\\UROP2024\\UROP2024\\src\\import_OMNI.py:60: FutureWarning: Support for nested sequences for 'parse_dates' in pd.read_csv is deprecated. Combine the desired columns with pd.to_datetime after parsing instead.\n",
      "  df = pd.read_csv(\n"
     ]
    },
    {
     "name": "stdout",
     "output_type": "stream",
     "text": [
      "Min / max thresholds are: 30.00 , 100.00\n",
      "6 sequences found.\n"
     ]
    },
    {
     "name": "stderr",
     "output_type": "stream",
     "text": [
      "c:\\Users\\Aarnav\\Downloads\\UROP2024\\UROP2024\\src\\import_OMNI.py:60: FutureWarning: Support for nested sequences for 'parse_dates' in pd.read_csv is deprecated. Combine the desired columns with pd.to_datetime after parsing instead.\n",
      "  df = pd.read_csv(\n"
     ]
    },
    {
     "name": "stdout",
     "output_type": "stream",
     "text": [
      "Min / max thresholds are: 30.00 , 100.00\n",
      "15 sequences found.\n",
      "Joining two sequences next to each other (within the threshold).\n",
      "Joining two sequences next to each other (within the threshold).\n"
     ]
    },
    {
     "name": "stderr",
     "output_type": "stream",
     "text": [
      "c:\\Users\\Aarnav\\Downloads\\UROP2024\\UROP2024\\src\\import_OMNI.py:60: FutureWarning: Support for nested sequences for 'parse_dates' in pd.read_csv is deprecated. Combine the desired columns with pd.to_datetime after parsing instead.\n",
      "  df = pd.read_csv(\n"
     ]
    },
    {
     "name": "stdout",
     "output_type": "stream",
     "text": [
      "Min / max thresholds are: 30.00 , 100.00\n",
      "13 sequences found.\n"
     ]
    },
    {
     "name": "stderr",
     "output_type": "stream",
     "text": [
      "c:\\Users\\Aarnav\\Downloads\\UROP2024\\UROP2024\\src\\import_OMNI.py:60: FutureWarning: Support for nested sequences for 'parse_dates' in pd.read_csv is deprecated. Combine the desired columns with pd.to_datetime after parsing instead.\n",
      "  df = pd.read_csv(\n"
     ]
    },
    {
     "name": "stdout",
     "output_type": "stream",
     "text": [
      "Min / max thresholds are: 30.00 , 100.00\n",
      "11 sequences found.\n",
      "Joining two sequences next to each other (within the threshold).\n",
      "Joining two sequences next to each other (within the threshold).\n"
     ]
    },
    {
     "name": "stderr",
     "output_type": "stream",
     "text": [
      "c:\\Users\\Aarnav\\Downloads\\UROP2024\\UROP2024\\src\\import_OMNI.py:60: FutureWarning: Support for nested sequences for 'parse_dates' in pd.read_csv is deprecated. Combine the desired columns with pd.to_datetime after parsing instead.\n",
      "  df = pd.read_csv(\n"
     ]
    },
    {
     "name": "stdout",
     "output_type": "stream",
     "text": [
      "Min / max thresholds are: 30.00 , 100.00\n",
      "No sequences found. Returning [].\n"
     ]
    },
    {
     "name": "stderr",
     "output_type": "stream",
     "text": [
      "c:\\Users\\Aarnav\\Downloads\\UROP2024\\UROP2024\\src\\import_OMNI.py:60: FutureWarning: Support for nested sequences for 'parse_dates' in pd.read_csv is deprecated. Combine the desired columns with pd.to_datetime after parsing instead.\n",
      "  df = pd.read_csv(\n"
     ]
    },
    {
     "name": "stdout",
     "output_type": "stream",
     "text": [
      "Min / max thresholds are: 30.00 , 100.00\n",
      "3 sequences found.\n"
     ]
    },
    {
     "name": "stderr",
     "output_type": "stream",
     "text": [
      "c:\\Users\\Aarnav\\Downloads\\UROP2024\\UROP2024\\src\\import_OMNI.py:60: FutureWarning: Support for nested sequences for 'parse_dates' in pd.read_csv is deprecated. Combine the desired columns with pd.to_datetime after parsing instead.\n",
      "  df = pd.read_csv(\n"
     ]
    },
    {
     "name": "stdout",
     "output_type": "stream",
     "text": [
      "Min / max thresholds are: 30.00 , 100.00\n",
      "12 sequences found.\n",
      "Joining two sequences next to each other (within the threshold).\n",
      "Joining two sequences next to each other (within the threshold).\n"
     ]
    },
    {
     "name": "stderr",
     "output_type": "stream",
     "text": [
      "c:\\Users\\Aarnav\\Downloads\\UROP2024\\UROP2024\\src\\import_OMNI.py:60: FutureWarning: Support for nested sequences for 'parse_dates' in pd.read_csv is deprecated. Combine the desired columns with pd.to_datetime after parsing instead.\n",
      "  df = pd.read_csv(\n"
     ]
    },
    {
     "name": "stdout",
     "output_type": "stream",
     "text": [
      "Min / max thresholds are: 30.00 , 100.00\n",
      "No sequences found. Returning [].\n"
     ]
    },
    {
     "name": "stderr",
     "output_type": "stream",
     "text": [
      "c:\\Users\\Aarnav\\Downloads\\UROP2024\\UROP2024\\src\\import_OMNI.py:60: FutureWarning: Support for nested sequences for 'parse_dates' in pd.read_csv is deprecated. Combine the desired columns with pd.to_datetime after parsing instead.\n",
      "  df = pd.read_csv(\n"
     ]
    },
    {
     "name": "stdout",
     "output_type": "stream",
     "text": [
      "Min / max thresholds are: 30.00 , 100.00\n",
      "13 sequences found.\n",
      "Joining two sequences next to each other (within the threshold).\n"
     ]
    },
    {
     "name": "stderr",
     "output_type": "stream",
     "text": [
      "c:\\Users\\Aarnav\\Downloads\\UROP2024\\UROP2024\\src\\import_OMNI.py:60: FutureWarning: Support for nested sequences for 'parse_dates' in pd.read_csv is deprecated. Combine the desired columns with pd.to_datetime after parsing instead.\n",
      "  df = pd.read_csv(\n"
     ]
    },
    {
     "name": "stdout",
     "output_type": "stream",
     "text": [
      "Min / max thresholds are: 30.00 , 100.00\n",
      "17 sequences found.\n",
      "Joining two sequences next to each other (within the threshold).\n",
      "Joining two sequences next to each other (within the threshold).\n",
      "Joining two sequences next to each other (within the threshold).\n",
      "Joining two sequences next to each other (within the threshold).\n"
     ]
    },
    {
     "data": {
      "image/png": "[encoded data removed]",
      "text/plain": [
       "<Figure size 640x480 with 1 Axes>"
      ]
     },
     "metadata": {},
     "output_type": "display_data"
    },
    {
     "name": "stdout",
     "output_type": "stream",
     "text": [
      "Importing complete\n"
     ]
    }
   ],
   "source": [
    "lower_thresh, upper_thresh = 30, 100\n",
    "plt.figure()\n",
    "\n",
    "\n",
    "# finding storm years over a 10 year timespan (1999-2009)\n",
    "storm_months = []\n",
    "rtsw_path = \"../172549/realtime_solarwind/ace\"\n",
    "list_df = []\n",
    "omni_path = \"../OMNI/datasets/final_dataset\"\n",
    "\n",
    "files = os.listdir(omni_path)\n",
    "for i, file in enumerate(files):\n",
    "    if not file.endswith(\".lst\"):\n",
    "        continue\n",
    "    df = read_OMNI(f\"{omni_path}/{file}\", \"../OMNI/data_format/omni_min_def_b7BGdilR8d.fmt\")\n",
    "    storm_info =findSeq(-df[\"SYM/H\"],lower_thresh,upper_thresh, return_ranges=True)\n",
    "    if len(storm_info) == 0:\n",
    "        plt.plot(df[\"Datetime\"], df[\"SYM/H\"], label=\"SYM/H\")\n",
    "        continue\n",
    "    ranges = storm_info[1]\n",
    "    months_over_year = []\n",
    "    for storm_dates in ranges:\n",
    "        months = pd.date_range(df[\"Datetime\"].iloc[storm_dates[0]],\n",
    "                                    df[\"Datetime\"].iloc[storm_dates[1]],\n",
    "                                    freq='ME', \n",
    "                                    inclusive=\"both\").strftime(\"%Y-%m\").tolist()\n",
    "        start_month = df[\"Datetime\"].iloc[storm_dates[0]].strftime(\"%Y-%m\")\n",
    "        end_month = df[\"Datetime\"].iloc[storm_dates[1]].strftime(\"%Y-%m\")\n",
    "        if start_month not in months:\n",
    "            months.append(start_month)\n",
    "        if end_month not in months:\n",
    "            months.append(end_month)\n",
    "        storm_months += (months)\n",
    "        months_over_year += months\n",
    "    \n",
    "    months_over_year = set(months_over_year)\n",
    "    for date in months_over_year:\n",
    "        date = date.split(\"-\")\n",
    "        list_df.append(read_RTSW_ACE(rtsw_path, *date))\n",
    "    print(f\"{(100*i/len(files)) :.2f}% complete\", end=\"\\r\")\n",
    "\n",
    "level1_all_storms = pd.concat(\n",
    "        list_df,\n",
    "        ignore_index=True,\n",
    "        )\n",
    "    \n",
    "plt.axhline(-lower_thresh,color='k',linestyle=':')\n",
    "plt.axhline(-upper_thresh,color='k',linestyle=':')\n",
    "plt.xlim(datetime.datetime(2008, 3, 9, 9), datetime.datetime(2008, 3, 9, 12))\n",
    "plt.show()\n",
    "storm_months = set(storm_months)\n",
    "\n",
    "\n",
    "print(\"Importing complete\")\n",
    "level1_all_storms = level1_all_storms.sort_values(by='Datetime')"
   ]
  },
  {
   "cell_type": "code",
   "execution_count": 86,
   "metadata": {},
   "outputs": [
    {
     "data": {
      "text/plain": [
       "array(['1999-01', '1999-02', '1999-04', '1999-09', '1999-10', '1999-11',\n",
       "       '2000-01', '2000-02', '2000-04', '2000-05', '2000-07', '2000-08',\n",
       "       '2000-09', '2000-10', '2000-11', '2001-03', '2001-04', '2001-08',\n",
       "       '2001-09', '2001-10', '2001-11', '2002-03', '2002-04', '2002-05',\n",
       "       '2002-08', '2002-09', '2002-10', '2002-11', '2003-05', '2003-06',\n",
       "       '2003-07', '2003-08', '2003-10', '2003-11', '2004-01', '2004-02',\n",
       "       '2004-03', '2004-04', '2004-07', '2004-08', '2004-09', '2004-11',\n",
       "       '2005-01', '2005-05', '2005-06', '2005-07', '2005-08', '2005-09',\n",
       "       '2006-04', '2006-12', '2007-01', '2007-02', '2007-03', '2007-04',\n",
       "       '2007-07', '2007-08', '2007-09', '2007-11', '2008-03', '2008-04',\n",
       "       '2008-05', '2008-07', '2008-08', '2008-09', '2008-10', '2008-11'],\n",
       "      dtype=object)"
      ]
     },
     "execution_count": 86,
     "metadata": {},
     "output_type": "execute_result"
    }
   ],
   "source": [
    "level1_all_storms[\"Datetime\"].dt.strftime(\"%Y-%m\").unique()"
   ]
  },
  {
   "cell_type": "code",
   "execution_count": null,
   "metadata": {},
   "outputs": [],
   "source": []
  }
 ],
 "metadata": {
  "kernelspec": {
   "display_name": "urop",
   "language": "python",
   "name": "python3"
  },
  "language_info": {
   "codemirror_mode": {
    "name": "ipython",
    "version": 3
   },
   "file_extension": ".py",
   "mimetype": "text/x-python",
   "name": "python",
   "nbconvert_exporter": "python",
   "pygments_lexer": "ipython3",
   "version": "3.12.3"
  }
 },
 "nbformat": 4,
 "nbformat_minor": 2
}
